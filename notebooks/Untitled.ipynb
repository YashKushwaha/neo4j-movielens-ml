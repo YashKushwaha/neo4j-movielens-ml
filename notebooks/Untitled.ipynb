{
 "cells": [
  {
   "cell_type": "code",
   "execution_count": 14,
   "id": "2acd891e-e217-4e9c-ba7e-8b12452324dd",
   "metadata": {},
   "outputs": [],
   "source": [
    "from neo4j import GraphDatabase\n",
    "import pandas as pd\n",
    "\n",
    "url = 'neo4j://localhost:7687'\n",
    "#url = \"bolt://localhost:7474\"\n",
    "driver = GraphDatabase.driver(url, auth=(\"neo4j\", \"test1234\"))"
   ]
  },
  {
   "cell_type": "code",
   "execution_count": 12,
   "id": "aec23d61-3dd7-4bf5-9853-d1aed3ba8ff9",
   "metadata": {},
   "outputs": [
    {
     "data": {
      "text/plain": [
       "['__annotations__',\n",
       " '__class__',\n",
       " '__del__',\n",
       " '__delattr__',\n",
       " '__dict__',\n",
       " '__dir__',\n",
       " '__doc__',\n",
       " '__enter__',\n",
       " '__eq__',\n",
       " '__exit__',\n",
       " '__format__',\n",
       " '__ge__',\n",
       " '__getattribute__',\n",
       " '__gt__',\n",
       " '__hash__',\n",
       " '__init__',\n",
       " '__init_subclass__',\n",
       " '__le__',\n",
       " '__lt__',\n",
       " '__module__',\n",
       " '__ne__',\n",
       " '__new__',\n",
       " '__reduce__',\n",
       " '__reduce_ex__',\n",
       " '__repr__',\n",
       " '__setattr__',\n",
       " '__sizeof__',\n",
       " '__str__',\n",
       " '__subclasshook__',\n",
       " '__weakref__',\n",
       " '_check_state',\n",
       " '_closed',\n",
       " '_default_workspace_config',\n",
       " '_get_server_info',\n",
       " '_initial_addresses',\n",
       " '_pool',\n",
       " '_prepare_session_config',\n",
       " '_query_bookmark_manager',\n",
       " '_read_session_config',\n",
       " '_session',\n",
       " 'close',\n",
       " 'default_host',\n",
       " 'default_port',\n",
       " 'default_targets',\n",
       " 'encrypted',\n",
       " 'execute_query',\n",
       " 'execute_query_bookmark_manager',\n",
       " 'get_server_info',\n",
       " 'initial_addresses',\n",
       " 'open',\n",
       " 'parse_targets',\n",
       " 'session',\n",
       " 'supports_multi_db',\n",
       " 'supports_session_auth',\n",
       " 'verify_authentication',\n",
       " 'verify_connectivity']"
      ]
     },
     "execution_count": 12,
     "metadata": {},
     "output_type": "execute_result"
    }
   ],
   "source": [
    "dir(driver)"
   ]
  },
  {
   "cell_type": "code",
   "execution_count": 15,
   "id": "14044c79-90af-4ebf-8996-7bc38a9275dc",
   "metadata": {},
   "outputs": [],
   "source": [
    "driver.verify_connectivity()"
   ]
  },
  {
   "cell_type": "code",
   "execution_count": 16,
   "id": "9af8e720-6f55-496f-bc6a-2955f219d903",
   "metadata": {},
   "outputs": [
    {
     "data": {
      "text/plain": [
       "True"
      ]
     },
     "execution_count": 16,
     "metadata": {},
     "output_type": "execute_result"
    }
   ],
   "source": [
    "driver.verify_authentication()"
   ]
  }
 ],
 "metadata": {
  "kernelspec": {
   "display_name": "Python 3 (ipykernel)",
   "language": "python",
   "name": "python3"
  },
  "language_info": {
   "codemirror_mode": {
    "name": "ipython",
    "version": 3
   },
   "file_extension": ".py",
   "mimetype": "text/x-python",
   "name": "python",
   "nbconvert_exporter": "python",
   "pygments_lexer": "ipython3",
   "version": "3.10.12"
  }
 },
 "nbformat": 4,
 "nbformat_minor": 5
}
